{
  "cells": [
    {
      "cell_type": "markdown",
      "metadata": {
        "id": "view-in-github",
        "colab_type": "text"
      },
      "source": [
        "<a href=\"https://colab.research.google.com/github/DaraYuna/DaraYuna/blob/main/Dever-03.ipynb\" target=\"_parent\"><img src=\"https://colab.research.google.com/assets/colab-badge.svg\" alt=\"Open In Colab\"/></a>"
      ]
    },
    {
      "cell_type": "code",
      "source": [
        "def eh_palindromo(arr, inicio=0, fim=None):\n",
        "    if fim is None:\n",
        "        fim = len(arr) - 1\n",
        "\n",
        "    #  é um palíndromo\n",
        "    if inicio >= fim:\n",
        "        return True\n",
        "\n",
        "    #  não é um palíndromo\n",
        "    if arr[inicio] != arr[fim]:\n",
        "        return False\n",
        "\n",
        "    # Chamada recursiva verificando os próximos elementos\n",
        "    return eh_palindromo(arr, inicio + 1, fim - 1)\n",
        "\n",
        "# Testes\n",
        "arrays = [\n",
        "    [0, 1, 2, 3, 2, 1, 0],\n",
        "    [\"a\", \"b\", \"b\", \"a\"],\n",
        "    [\"a\", \"b\", \"c\", \"b\", \"a\"],\n",
        "    [\"a\", \"b\", \"c\", \"f\", \"b\", \"a\"]\n",
        "]\n",
        "\n",
        "for arr in arrays:\n",
        "    resultado = \"É palíndromo\" if eh_palindromo(arr) else \"Não é palíndromo\"\n",
        "    print(f\"{arr} -> {resultado}\")\n"
      ],
      "metadata": {
        "id": "Gatp49eW7aku"
      },
      "execution_count": null,
      "outputs": []
    }
  ],
  "metadata": {
    "colab": {
      "provenance": [],
      "include_colab_link": true
    },
    "kernelspec": {
      "display_name": "Python 3",
      "name": "python3"
    }
  },
  "nbformat": 4,
  "nbformat_minor": 0
}